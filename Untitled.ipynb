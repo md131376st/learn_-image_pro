{
 "cells": [
  {
   "cell_type": "code",
   "execution_count": 1,
   "metadata": {},
   "outputs": [],
   "source": [
    "import cv2"
   ]
  },
  {
   "cell_type": "code",
   "execution_count": 2,
   "metadata": {},
   "outputs": [
    {
     "data": {
      "text/plain": [
       "array([[[107, 121, 117],\n",
       "        [107, 121, 117],\n",
       "        [107, 121, 117],\n",
       "        ...,\n",
       "        [ 88,  99, 103],\n",
       "        [ 88, 100, 102],\n",
       "        [ 88, 100, 102]],\n",
       "\n",
       "       [[107, 121, 117],\n",
       "        [107, 121, 117],\n",
       "        [107, 121, 117],\n",
       "        ...,\n",
       "        [ 88,  99, 103],\n",
       "        [ 88, 100, 102],\n",
       "        [ 88, 100, 102]],\n",
       "\n",
       "       [[107, 121, 117],\n",
       "        [107, 121, 117],\n",
       "        [107, 121, 117],\n",
       "        ...,\n",
       "        [ 88,  99, 103],\n",
       "        [ 88, 100, 102],\n",
       "        [ 88, 100, 102]],\n",
       "\n",
       "       ...,\n",
       "\n",
       "       [[ 77, 103, 133],\n",
       "        [ 69,  96, 123],\n",
       "        [ 67,  91, 119],\n",
       "        ...,\n",
       "        [ 35,  39,  40],\n",
       "        [ 33,  37,  38],\n",
       "        [ 33,  37,  38]],\n",
       "\n",
       "       [[ 73,  99, 129],\n",
       "        [ 63,  90, 117],\n",
       "        [ 62,  86, 114],\n",
       "        ...,\n",
       "        [ 33,  37,  38],\n",
       "        [ 35,  39,  40],\n",
       "        [ 35,  39,  40]],\n",
       "\n",
       "       [[ 66,  92, 122],\n",
       "        [ 57,  84, 111],\n",
       "        [ 60,  84, 112],\n",
       "        ...,\n",
       "        [ 30,  34,  35],\n",
       "        [ 37,  41,  42],\n",
       "        [ 37,  41,  42]]], dtype=uint8)"
      ]
     },
     "execution_count": 2,
     "metadata": {},
     "output_type": "execute_result"
    }
   ],
   "source": [
    "# load an image \n",
    "img = cv2.imread('1.jpeg')\n",
    "img"
   ]
  },
  {
   "cell_type": "code",
   "execution_count": 4,
   "metadata": {},
   "outputs": [],
   "source": [
    "\n",
    "# display an image\n",
    "# u can resize window\n",
    "cv2.namedWindow('DAD', cv2.WINDOW_NORMAL)\n",
    "# fisrt arg name of window \n",
    "#second arg input\n",
    "cv2.imshow('DAD', img)\n",
    "# wait infinti for a key stroke\n",
    "cv2.waitKey(0)\n",
    "# \n",
    "cv2.destroyAllWindows()"
   ]
  },
  {
   "cell_type": "code",
   "execution_count": null,
   "metadata": {},
   "outputs": [],
   "source": []
  }
 ],
 "metadata": {
  "kernelspec": {
   "display_name": "Python 3",
   "language": "python",
   "name": "python3"
  },
  "language_info": {
   "codemirror_mode": {
    "name": "ipython",
    "version": 3
   },
   "file_extension": ".py",
   "mimetype": "text/x-python",
   "name": "python",
   "nbconvert_exporter": "python",
   "pygments_lexer": "ipython3",
   "version": "3.6.8"
  }
 },
 "nbformat": 4,
 "nbformat_minor": 2
}
